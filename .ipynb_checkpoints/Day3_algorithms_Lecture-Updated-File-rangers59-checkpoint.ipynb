{
 "cells": [
  {
   "cell_type": "markdown",
   "metadata": {},
   "source": [
    "# Algorithms, Binary Search & Linked Lists"
   ]
  },
  {
   "cell_type": "markdown",
   "metadata": {},
   "source": [
    "## Tasks Today:\n",
    " \n",
    "1) <b>In-Place Algorithms</b> <br>\n",
    " &nbsp;&nbsp;&nbsp;&nbsp; a) Syntax <br>\n",
    " &nbsp;&nbsp;&nbsp;&nbsp; a) Out of Place Algorithm <br>\n",
    " &nbsp;&nbsp;&nbsp;&nbsp; b) In-Class Exercise #1 <br>\n",
    "2) <b>Two Pointers</b> <br>\n",
    "3) <b>Linked Lists</b> <br>\n",
    "4) <b>Merge Sort</b> <br>\n",
    " &nbsp;&nbsp;&nbsp;&nbsp; a) Video on Algorithms <br>\n",
    " &nbsp;&nbsp;&nbsp;&nbsp; b) How it Works <br>\n",
    "5) <b>Exercises</b> <br>\n",
    " &nbsp;&nbsp;&nbsp;&nbsp; a) Exercise #1 - Reverse a List in Place Using an In-Place Algorithm <br>\n",
    " &nbsp;&nbsp;&nbsp;&nbsp; b) Exercise #2 - Find Distinct Words <br>\n",
    " &nbsp;&nbsp;&nbsp;&nbsp; c) Exercise #3 - Write a program to implement a Linear Search Algorithm. <br>"
   ]
  },
  {
   "cell_type": "markdown",
   "metadata": {},
   "source": [
    "## In-Place Algorithms"
   ]
  },
  {
   "cell_type": "markdown",
   "metadata": {},
   "source": [
    "#### Syntax"
   ]
  },
  {
   "cell_type": "code",
   "execution_count": 3,
   "metadata": {},
   "outputs": [],
   "source": [
    "list_a = [1,2,3]\n",
    "list_b = list_a[:]"
   ]
  },
  {
   "cell_type": "code",
   "execution_count": 4,
   "metadata": {},
   "outputs": [
    {
     "data": {
      "text/plain": [
       "'0x22b9dc38f80'"
      ]
     },
     "execution_count": 4,
     "metadata": {},
     "output_type": "execute_result"
    }
   ],
   "source": [
    "hex(id(list_a))"
   ]
  },
  {
   "cell_type": "code",
   "execution_count": 5,
   "metadata": {},
   "outputs": [
    {
     "data": {
      "text/plain": [
       "'0x22b9dc39bc0'"
      ]
     },
     "execution_count": 5,
     "metadata": {},
     "output_type": "execute_result"
    }
   ],
   "source": [
    "hex(id(list_b))"
   ]
  },
  {
   "cell_type": "code",
   "execution_count": 6,
   "metadata": {},
   "outputs": [],
   "source": [
    "list_a + [1,2,3]\n",
    "def append_num(a_list, number):\n",
    "    a_list.append(number)\n",
    "    "
   ]
  },
  {
   "cell_type": "code",
   "execution_count": 7,
   "metadata": {},
   "outputs": [],
   "source": [
    "list_b[0] = 3"
   ]
  },
  {
   "cell_type": "code",
   "execution_count": 9,
   "metadata": {},
   "outputs": [
    {
     "ename": "TypeError",
     "evalue": "'tuple' object does not support item assignment",
     "output_type": "error",
     "traceback": [
      "\u001b[1;31m---------------------------------------------------------------------------\u001b[0m",
      "\u001b[1;31mTypeError\u001b[0m                                 Traceback (most recent call last)",
      "Input \u001b[1;32mIn [9]\u001b[0m, in \u001b[0;36m<cell line: 10>\u001b[1;34m()\u001b[0m\n\u001b[0;32m      6\u001b[0m     \u001b[38;5;28;01mreturn\u001b[39;00m list_a\n\u001b[0;32m      8\u001b[0m my_list \u001b[38;5;241m=\u001b[39m(\u001b[38;5;241m50\u001b[39m, \u001b[38;5;241m3\u001b[39m, \u001b[38;5;241m7\u001b[39m)\n\u001b[1;32m---> 10\u001b[0m \u001b[43mswap\u001b[49m\u001b[43m(\u001b[49m\u001b[43mmy_list\u001b[49m\u001b[43m,\u001b[49m\u001b[43m \u001b[49m\u001b[38;5;241;43m1\u001b[39;49m\u001b[43m,\u001b[49m\u001b[38;5;241;43m0\u001b[39;49m\u001b[43m,\u001b[49m\u001b[38;5;241;43m2\u001b[39;49m\u001b[43m)\u001b[49m\n\u001b[0;32m     12\u001b[0m \u001b[38;5;28mprint\u001b[39m(my_list)\n",
      "Input \u001b[1;32mIn [9]\u001b[0m, in \u001b[0;36mswap\u001b[1;34m(list_a, x, y, z)\u001b[0m\n\u001b[0;32m      4\u001b[0m \u001b[38;5;28;01mdef\u001b[39;00m \u001b[38;5;21mswap\u001b[39m(list_a, x, y, z):\n\u001b[1;32m----> 5\u001b[0m     list_a[x], list_a[y], list_a[z] \u001b[38;5;241m=\u001b[39m list_a[z], list_a[y], list_a[x]\n\u001b[0;32m      6\u001b[0m     \u001b[38;5;28;01mreturn\u001b[39;00m list_a\n",
      "\u001b[1;31mTypeError\u001b[0m: 'tuple' object does not support item assignment"
     ]
    }
   ],
   "source": [
    "# var[i], var[i +1], var[i]\n",
    "# \"swap algorithm\"\n",
    "\n",
    "def swap(list_a, x, y, z):\n",
    "    list_a[x], list_a[y], list_a[z] = list_a[z], list_a[y], list_a[x]\n",
    "    return list_a\n",
    "\n",
    "my_list =(50, 3, 7)\n",
    "\n",
    "swap(my_list, 1,0,2)\n",
    "\n",
    "print(my_list)"
   ]
  },
  {
   "cell_type": "markdown",
   "metadata": {},
   "source": [
    "#### Out of Place Algorithm"
   ]
  },
  {
   "cell_type": "code",
   "execution_count": 10,
   "metadata": {},
   "outputs": [
    {
     "ename": "SyntaxError",
     "evalue": "invalid syntax (2387790352.py, line 5)",
     "output_type": "error",
     "traceback": [
      "\u001b[1;36m  Input \u001b[1;32mIn [10]\u001b[1;36m\u001b[0m\n\u001b[1;33m    copy = input_list:]\u001b[0m\n\u001b[1;37m                     ^\u001b[0m\n\u001b[1;31mSyntaxError\u001b[0m\u001b[1;31m:\u001b[0m invalid syntax\n"
     ]
    }
   ],
   "source": [
    "list_b = ['cliff', 'jason', 'steve']\n",
    "\n",
    "\n",
    "def out_swap():\n",
    "    copy = input_list:]\n",
    "    print(f'input_list: {hex(id(input_list))}\\nmemory location of copy: {hex(id(copy))}')\n",
    "    \n",
    "    return copy[::-1]#shortcut of making a backwards version of an iterable\n",
    "\n",
    "print(out_swap(list_b))\n",
    "\n",
    "print(list_b)"
   ]
  },
  {
   "cell_type": "code",
   "execution_count": 13,
   "metadata": {},
   "outputs": [
    {
     "ename": "IndexError",
     "evalue": "tuple index out of range",
     "output_type": "error",
     "traceback": [
      "\u001b[1;31m---------------------------------------------------------------------------\u001b[0m",
      "\u001b[1;31mIndexError\u001b[0m                                Traceback (most recent call last)",
      "Input \u001b[1;32mIn [13]\u001b[0m, in \u001b[0;36m<cell line: 10>\u001b[1;34m()\u001b[0m\n\u001b[0;32m      6\u001b[0m     \u001b[38;5;28;01mreturn\u001b[39;00m list_a\n\u001b[0;32m      8\u001b[0m my_list \u001b[38;5;241m=\u001b[39m(\u001b[38;5;124m'\u001b[39m\u001b[38;5;124mjimi\u001b[39m\u001b[38;5;124m'\u001b[39m, \u001b[38;5;124m'\u001b[39m\u001b[38;5;124mjimmy\u001b[39m\u001b[38;5;124m'\u001b[39m, \u001b[38;5;124m'\u001b[39m\u001b[38;5;124mjames\u001b[39m\u001b[38;5;124m'\u001b[39m)\n\u001b[1;32m---> 10\u001b[0m \u001b[43mswap\u001b[49m\u001b[43m(\u001b[49m\u001b[43mmy_list\u001b[49m\u001b[43m,\u001b[49m\u001b[43m \u001b[49m\u001b[38;5;241;43m1\u001b[39;49m\u001b[43m,\u001b[49m\u001b[38;5;241;43m0\u001b[39;49m\u001b[43m,\u001b[49m\u001b[38;5;241;43m2\u001b[39;49m\u001b[43m,\u001b[49m\u001b[38;5;241;43m3\u001b[39;49m\u001b[43m)\u001b[49m\n\u001b[0;32m     12\u001b[0m \u001b[38;5;28mprint\u001b[39m(my_list)\n",
      "Input \u001b[1;32mIn [13]\u001b[0m, in \u001b[0;36mswap\u001b[1;34m(list_a, w, x, y, z)\u001b[0m\n\u001b[0;32m      4\u001b[0m \u001b[38;5;28;01mdef\u001b[39;00m \u001b[38;5;21mswap\u001b[39m(list_a, w, x, y, z):\n\u001b[1;32m----> 5\u001b[0m     list_a[w], list_a[x], list_a[y], list_a[z] \u001b[38;5;241m=\u001b[39m \u001b[43mlist_a\u001b[49m\u001b[43m[\u001b[49m\u001b[43mz\u001b[49m\u001b[43m]\u001b[49m, list_a[y], list_a[x], list_a[w]\n\u001b[0;32m      6\u001b[0m     \u001b[38;5;28;01mreturn\u001b[39;00m list_a\n",
      "\u001b[1;31mIndexError\u001b[0m: tuple index out of range"
     ]
    }
   ],
   "source": [
    "# var[i], var[i +1], var[i]\n",
    "# \"swap algorithm\"\n",
    "\n",
    "def swap(list_a, w, x, y, z):\n",
    "    list_a[w], list_a[x], list_a[y], list_a[z] = list_a[z], list_a[y], list_a[x], list_a[w]\n",
    "    return list_a\n",
    "\n",
    "my_list =('jimi', 'jimmy', 'james')\n",
    "\n",
    "swap(my_list, 1,0,2,3)\n",
    "\n",
    "print(my_list)"
   ]
  },
  {
   "cell_type": "markdown",
   "metadata": {},
   "source": [
    "#### In-Class Exercise #1 <br>\n",
    "<p>Write a function that takes in four arguments (list, index1, index2, index3), and swaps those three positions in the list passed in.</p>"
   ]
  },
  {
   "cell_type": "code",
   "execution_count": 20,
   "metadata": {},
   "outputs": [
    {
     "name": "stdout",
     "output_type": "stream",
     "text": [
      "list_a before in-place swap: ['gertrude', 'rosaria', 'hesel', 'gwynevere']\n",
      "list_a after in-place swap: ['gwynevere', 'hesel', 'rosaria', 'gertrude']\n"
     ]
    }
   ],
   "source": [
    "l_1 = [10, 4, 3, 8, 4, 2, 6]\n",
    "\n",
    "# Take in a four-membered list and reverse them in-place and out-of-place\n",
    "# in-place means: the original list gets modified by the function.\n",
    "# out-of-place means: a copy of the original list created, and that copy is modified, not the original.\n",
    "\n",
    "def in_rev(my_list, w,x,y,z):\n",
    "    copy = my_list[:] \n",
    "    my_list[w],my_list[x],my_list[y],my_list[z] = my_list[z],my_list[y],my_list[x],my_list[w]\n",
    "    return my_list\n",
    "\n",
    "list_a = ['gertrude', 'rosaria', 'hesel','gwynevere']\n",
    "\n",
    "print(f'list_a before in-place swap: {list_a}')\n",
    "\n",
    "# call the function\n",
    "in_rev(list_a,0,1,2,3)\n",
    "\n",
    "print(f'list_a after in-place swap: {list_a}')\n",
    "\n",
    "# list_a permanently modified by in_rev() function.\n"
   ]
  },
  {
   "cell_type": "markdown",
   "metadata": {},
   "source": [
    "## Two Pointers"
   ]
  },
  {
   "cell_type": "markdown",
   "metadata": {},
   "source": [
    "#### Syntax"
   ]
  },
  {
   "cell_type": "code",
   "execution_count": 24,
   "metadata": {},
   "outputs": [
    {
     "name": "stdout",
     "output_type": "stream",
     "text": [
      "left: 0 right: 4\n",
      "sample_list in loop: [10, 11, 12, 13, 14]\n",
      "sample_list in loop: [14, 11, 12, 13, 10]\n",
      "sample_list in loop: [14, 13, 12, 11, 10]\n",
      "sample after: [14, 13, 12, 11, 10]\n"
     ]
    }
   ],
   "source": [
    "\n",
    "\n",
    "def two_point(my_list):\n",
    "    #create \"pointers\" for the list\n",
    "    left = 0\n",
    "    right = len(my_list) - 1\n",
    "    \n",
    "    print(f'left: {left} right: {right}')\n",
    "    \n",
    "    while left <= right:\n",
    "        print(f'sample_list in loop: {my_list}')\n",
    "        my_list[left], my_list[right] = my_list[right], my_list[left]\n",
    "        left += 1\n",
    "        right -= 1\n",
    "    return my_list\n",
    "\n",
    "sample_list = [10,11,12,13,14]\n",
    "\n",
    "two_point(sample_list)\n",
    "    \n",
    "    \n",
    "print(f'sample after: {sample_list}')"
   ]
  },
  {
   "cell_type": "markdown",
   "metadata": {},
   "source": [
    "#### Video of Algorithms <br>\n",
    "<p>Watch the video about algorithms.</p>\n",
    "\n",
    "https://www.youtube.com/watch?v=Q9HjeFD62Uk\n",
    "\n",
    "https://www.youtube.com/watch?v=kPRA0W1kECg\n",
    "\n",
    "https://www.youtube.com/watch?v=ZZuD6iUe3Pc"
   ]
  },
  {
   "cell_type": "markdown",
   "metadata": {},
   "source": [
    "# Sorting Algorithms"
   ]
  },
  {
   "cell_type": "markdown",
   "metadata": {},
   "source": [
    "#### Bubble Sort\n",
    "\n",
    "Worst Case: O(n^2) Time - O(1) Space"
   ]
  },
  {
   "cell_type": "code",
   "execution_count": 26,
   "metadata": {},
   "outputs": [
    {
     "name": "stdout",
     "output_type": "stream",
     "text": [
      "list_a before: [22, 55, 88, 44, 1, 100, 34, 66]\n"
     ]
    },
    {
     "ename": "NameError",
     "evalue": "name 'swap_' is not defined",
     "output_type": "error",
     "traceback": [
      "\u001b[1;31m---------------------------------------------------------------------------\u001b[0m",
      "\u001b[1;31mNameError\u001b[0m                                 Traceback (most recent call last)",
      "Input \u001b[1;32mIn [26]\u001b[0m, in \u001b[0;36m<cell line: 10>\u001b[1;34m()\u001b[0m\n\u001b[0;32m      6\u001b[0m     arr[i], arr[j] \u001b[38;5;241m=\u001b[39m arr[j], arr[i]\n\u001b[0;32m      8\u001b[0m \u001b[38;5;28mprint\u001b[39m(\u001b[38;5;124mf\u001b[39m\u001b[38;5;124m'\u001b[39m\u001b[38;5;124mlist_a before: \u001b[39m\u001b[38;5;132;01m{\u001b[39;00mlist_a\u001b[38;5;132;01m}\u001b[39;00m\u001b[38;5;124m'\u001b[39m)\n\u001b[1;32m---> 10\u001b[0m \u001b[43mswap_\u001b[49m(list_a, \u001b[38;5;241m2\u001b[39m, \u001b[38;5;241m3\u001b[39m)\n\u001b[0;32m     12\u001b[0m \u001b[38;5;28mprint\u001b[39m(\u001b[38;5;124mf\u001b[39m\u001b[38;5;124m'\u001b[39m\u001b[38;5;124mlist_a after: \u001b[39m\u001b[38;5;132;01m{\u001b[39;00mlist_a\u001b[38;5;132;01m}\u001b[39;00m\u001b[38;5;124m'\u001b[39m)\n\u001b[0;32m     14\u001b[0m \u001b[38;5;28;01mdef\u001b[39;00m \u001b[38;5;21mbubble\u001b[39m(arr):\n",
      "\u001b[1;31mNameError\u001b[0m: name 'swap_' is not defined"
     ]
    }
   ],
   "source": [
    "list_a = [22, 55, 88, 44, 1, 100, 34, 66]\n",
    "\n",
    "#helper function to swap\n",
    "\n",
    "def swap(arr, i, j):\n",
    "    arr[i], arr[j] = arr[j], arr[i]\n",
    "\n",
    "print(f'list_a before: {list_a}')\n",
    "    \n",
    "swap_(list_a, 2, 3)\n",
    "\n",
    "print(f'list_a after: {list_a}')\n",
    "\n",
    "def bubble(arr):\n",
    "    is_sorted = False\n",
    "    while not is_sorted:\n",
    "        is_sorted = True\n",
    "        for num in range(len(arr)-1):\n",
    "            if arr[num]> arr[num + 1]:\n",
    "                swap(arr, num, num + 1)\n",
    "                is_sorted = False\n",
    "    print(f'arr after bubble sort: {arr}')            \n",
    "    return arr\n",
    "\n",
    "bubble(list_a)"
   ]
  },
  {
   "cell_type": "markdown",
   "metadata": {},
   "source": [
    "##### Insertion Sort\n",
    "\n",
    "Worst Case: O(n^2) time - O(1)space"
   ]
  },
  {
   "cell_type": "code",
   "execution_count": 29,
   "metadata": {},
   "outputs": [
    {
     "data": {
      "text/plain": [
       "[22, 55, 88, 44, 1, 100, 34, 66]"
      ]
     },
     "execution_count": 29,
     "metadata": {},
     "output_type": "execute_result"
    }
   ],
   "source": [
    "list_a = [22, 55, 88, 44, 1, 100, 34, 66]\n",
    "\n",
    "#helper function to swap\n",
    "\n",
    "def swap(arr, i, j):\n",
    "    arr[i], arr[j] = arr[j], arr[i]\n",
    "    \n",
    "def insert(arr):\n",
    "    for i in range(1,len(arr)):\n",
    "        while i > 0 and arr[i] < arr[i - 1]:\n",
    "            swap(arr, i, i - 1)\n",
    "            i -= 1\n",
    "        return arr\n",
    "    \n",
    "insert(list_a)"
   ]
  },
  {
   "cell_type": "markdown",
   "metadata": {},
   "source": [
    "## Merge Sort"
   ]
  },
  {
   "cell_type": "markdown",
   "metadata": {},
   "source": [
    "#### How it Works"
   ]
  },
  {
   "cell_type": "code",
   "execution_count": 31,
   "metadata": {},
   "outputs": [
    {
     "ename": "SyntaxError",
     "evalue": "invalid syntax (1374073851.py, line 16)",
     "output_type": "error",
     "traceback": [
      "\u001b[1;36m  Input \u001b[1;32mIn [31]\u001b[1;36m\u001b[0m\n\u001b[1;33m    right_half input_list[mid:]\u001b[0m\n\u001b[1;37m               ^\u001b[0m\n\u001b[1;31mSyntaxError\u001b[0m\u001b[1;31m:\u001b[0m invalid syntax\n"
     ]
    }
   ],
   "source": [
    "#step 1: split members into groups\n",
    "#step2: from left to right, merge two groups together. \n",
    "#while merging, place each item in the correct postiion within its merged group\n",
    "#continue until only one group is left.\n",
    "\n",
    "list_a = [33, 41, 99, 49, 86, 26, 88, 8, 4, 92]\n",
    "\n",
    "\n",
    "def merg(input_list):\n",
    "    print(f'input_list: {input_list}')\n",
    "    \n",
    "    #step1:\n",
    "    if len(input_list) > 1:\n",
    "        mid = len(input_list) // 2\n",
    "        left_half = input_list[:mid]\n",
    "        right_half input_list[mid:]\n",
    "        print(f'len(input_list): {len(input_list)}\\nmid: {mid}\\nleft_half: {left_half}\\nright_half: {right_half}')\n",
    "    \n",
    "    \n",
    "        merge(left_half)\n",
    "        merge(right_half)\n",
    "        \n",
    "        left_i = 0\n",
    "        right_i = 0\n",
    "        main_i = 0 \n",
    "        \n",
    "        \n",
    "        while left_i < len(left_half) and right_i < len(right_right_half):\n",
    "            if left_half[left_i] < right_half[right_i]:\n",
    "                input_list[main_i] = lift_half[left_i]\n",
    "                left_i += 1\n",
    "            else:\n",
    "                input_list[main_i] = right_half[right_i]\n",
    "                right_i += 1\n",
    "            main_i += #increment main index everytime the while loop progresses, regardless of whether \n",
    "                        #the main index came from the laft group or the right group\n",
    "                \n",
    "            #step 3: Merge items into correct position\n",
    "            \n",
    "            while left_i len(len_half):\n",
    "                input_list[main_i] = left_half[left_i]\n",
    "                left_i += 1\n",
    "                main_i += 1\n",
    "            while right_i < len(right_half):\n",
    "                input_list[main_i] = right_half[right_i]\n",
    "                right_i += 1\n",
    "                left_1 += 1\n",
    "                \n",
    "            return input_list\n",
    "        \n",
    "merge(list_a)"
   ]
  },
  {
   "cell_type": "code",
   "execution_count": null,
   "metadata": {},
   "outputs": [],
   "source": [
    "from random import randint\n",
    "nums = [randint(0,99) for i in range(10)]\n",
    "print(nums)"
   ]
  },
  {
   "cell_type": "markdown",
   "metadata": {},
   "source": [
    "# Binary Search\n",
    "\n",
    "The Binary Search algorithm works by finding the number in the middle of a given array and comparing it to the target. Given that the array is sorted\n",
    "\n",
    "* The worst case run time for this algorithm is `O(log(n))`"
   ]
  },
  {
   "cell_type": "code",
   "execution_count": 33,
   "metadata": {},
   "outputs": [
    {
     "name": "stdout",
     "output_type": "stream",
     "text": [
      "My name is James\n",
      "My name is Dave\n",
      "My name is Cliff\n",
      "My name is Jason\n"
     ]
    }
   ],
   "source": [
    "# what would it take in terms of computational time(loosely speaking) to run a for loop on a list\n",
    "for i in ['james', 'dave', 'cliff', 'jason']:\n",
    "    print(f'My name is {i.title()}')"
   ]
  },
  {
   "cell_type": "code",
   "execution_count": 38,
   "metadata": {},
   "outputs": [
    {
     "name": "stdout",
     "output_type": "stream",
     "text": [
      "[4, 8, 26, 33, 41, 49, 86, 88, 92, 99]\n"
     ]
    },
    {
     "data": {
      "text/plain": [
       "'the index is.... 4'"
      ]
     },
     "execution_count": 38,
     "metadata": {},
     "output_type": "execute_result"
    }
   ],
   "source": [
    "# if less, left\n",
    "#if grreat, right\n",
    "#list of numbers to sort\n",
    "\n",
    "\n",
    "list_a = [33, 41, 99, 49, 86, 26, 88, 8, 4, 92]\n",
    "list_b = sorted(list_a)\n",
    "print(list_b)\n",
    "target_a = 88\n",
    "left_a = 49\n",
    "right_a = 4\n",
    "\n",
    "def binary(arr, target):\n",
    "    left = 0\n",
    "    right = len(arr) -1\n",
    "    while left <= right:\n",
    "        mid = (left + right) // 2\n",
    "        match = arr[mid]\n",
    "        if target == match:\n",
    "            return f'the index is.... {mid}'\n",
    "        \n",
    "        elif target < match:\n",
    "            right = mid - 1\n",
    "        else:\n",
    "            left = mid + 1\n",
    "    return -1\n",
    "\n",
    "#binary_helper(list_b, target_a, left_a, right_a)\n",
    "\n",
    "#def binary(arr, target):\n",
    "#    return binary_helper(arr, target, 0, len(arr) - 1)\n",
    "\n",
    "binary([22,44,55,66,88,100],88)"
   ]
  },
  {
   "cell_type": "markdown",
   "metadata": {},
   "source": [
    "# Exercises"
   ]
  },
  {
   "cell_type": "markdown",
   "metadata": {},
   "source": [
    "### Exercise #1 <br>\n",
    "<p>Reverse the list below in-place using an in-place algorithm.<br>For extra credit: Reverse the strings at the same time.</p>"
   ]
  },
  {
   "cell_type": "code",
   "execution_count": null,
   "metadata": {},
   "outputs": [],
   "source": [
    "words = ['this' , 'is', 'a', 'sentence', '.']\n"
   ]
  },
  {
   "cell_type": "markdown",
   "metadata": {},
   "source": [
    "### Exercise #2 <br>\n",
    "<p>Create a function that counts how many distinct words are in the string below, then outputs a dictionary with the words as the key and the value as the amount of times that word appears in the string.<br>Should output:<br>{'a': 5,<br>\n",
    " 'abstract': 1,<br>\n",
    " 'an': 3,<br>\n",
    " 'array': 2, ... etc...</p>"
   ]
  },
  {
   "cell_type": "code",
   "execution_count": null,
   "metadata": {},
   "outputs": [],
   "source": [
    "a_text = 'In computing, a hash table hash map is a data structure which implements an associative array abstract data type, a structure that can map keys to values. A hash table uses a hash function to compute an index into an array of buckets or slots from which the desired value can be found'\n",
    "\n"
   ]
  },
  {
   "cell_type": "markdown",
   "metadata": {},
   "source": [
    "## Exercise #3\n",
    "\n",
    "Write a program to implement a Linear Search Algorithm. \n",
    "\n",
    "#### Hint: Linear Searching will require searching a list for a given number. "
   ]
  },
  {
   "cell_type": "code",
   "execution_count": null,
   "metadata": {},
   "outputs": [],
   "source": [
    "num_list = [10,23,45,70,11,15]\n",
    "target = 70\n",
    "\n",
    "#if number is not present return -1"
   ]
  }
 ],
 "metadata": {
  "kernelspec": {
   "display_name": "Python 3 (ipykernel)",
   "language": "python",
   "name": "python3"
  },
  "language_info": {
   "codemirror_mode": {
    "name": "ipython",
    "version": 3
   },
   "file_extension": ".py",
   "mimetype": "text/x-python",
   "name": "python",
   "nbconvert_exporter": "python",
   "pygments_lexer": "ipython3",
   "version": "3.9.12"
  }
 },
 "nbformat": 4,
 "nbformat_minor": 2
}
